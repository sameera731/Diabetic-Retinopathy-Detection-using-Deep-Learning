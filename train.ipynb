{
 "cells": [
  {
   "cell_type": "code",
   "execution_count": null,
   "id": "d92313ab",
   "metadata": {},
   "outputs": [],
   "source": [
    "import tensorflow as tf\n",
    "from tensorflow.keras.applications import ResNet50\n",
    "from tensorflow.keras.layers import GlobalAveragePooling2D, Dense\n",
    "from tensorflow.keras.models import Model\n",
    "from tensorflow.keras.optimizers import Adam\n",
    "from tensorflow.keras.callbacks import ModelCheckpoint, EarlyStopping\n",
    "from tensorflow.keras.preprocessing.image import ImageDataGenerator"
   ]
  },
  {
   "cell_type": "markdown",
   "id": "dee4c24f",
   "metadata": {},
   "source": [
    "# Hyperparameters\n"
   ]
  },
  {
   "cell_type": "code",
   "execution_count": null,
   "id": "350a464c",
   "metadata": {},
   "outputs": [],
   "source": [
    "\n",
    "image_size = (224, 224)\n",
    "batch_size = 32\n",
    "num_classes = 5  # categories in last output layer\n",
    "learning_rate = 0.001 #when u adjust the weights the difference in adjustments will be this much\n",
    "epochs = 10"
   ]
  },
  {
   "cell_type": "code",
   "execution_count": null,
   "id": "56e871ea",
   "metadata": {},
   "outputs": [],
   "source": [
    "import os\n",
    "import zipfile\n",
    "import shutil\n",
    "import pandas as pd\n",
    "import numpy as np\n",
    "\n",
    "# Unzip the training and testing image files\n",
    "# with zipfile.ZipFile('train_images.zip', 'r') as zip_ref:\n",
    "#     zip_ref.extractall('train_images')\n",
    "\n",
    "# with zipfile.ZipFile('test_images.zip', 'r') as zip_ref:\n",
    "#     zip_ref.extractall('test_images')\n",
    "\n",
    "# # Load CSV and create class folders\n",
    "# csv_file = 'train.csv'  # Make sure this file exists in your working directory\n",
    "# df = pd.read_csv(csv_file)\n",
    "\n",
    "# base_dir = 'dataset'\n",
    "# os.makedirs(base_dir, exist_ok=True)\n",
    "\n",
    "# for level in df['diagnosis'].unique():\n",
    "#     os.makedirs(os.path.join(base_dir, str(level)), exist_ok=True)\n",
    "\n",
    "# for _, row in df.iterrows():\n",
    "#     src = os.path.join('train_images', row['id_code'] + '.png')\n",
    "#     dst = os.path.join(base_dir, str(row['diagnosis']), row['id_code'] + '.png')\n",
    "#     if os.path.exists(src):\n",
    "#         shutil.copy(src,dst)"
   ]
  },
  {
   "cell_type": "markdown",
   "id": "b6543c01",
   "metadata": {},
   "source": [
    "train data set\n"
   ]
  },
  {
   "cell_type": "code",
   "execution_count": null,
   "id": "2767f746",
   "metadata": {},
   "outputs": [],
   "source": [
    "train_datagen = ImageDataGenerator(\n",
    "    rescale=1./255,\n",
    "    validation_split=0.2  # 80% Train, 20% Validation\n",
    ")\n",
    "\n",
    "test_datagen = ImageDataGenerator(rescale=1./255)\n",
    "\n",
    "train_generator = train_datagen.flow_from_directory(\n",
    "    'colored_images',\n",
    "    target_size=image_size,\n",
    "    batch_size=batch_size,\n",
    "    class_mode='categorical',\n",
    "    subset='training'\n",
    ")"
   ]
  },
  {
   "cell_type": "markdown",
   "id": "93033347",
   "metadata": {},
   "source": [
    "testing"
   ]
  },
  {
   "cell_type": "code",
   "execution_count": null,
   "id": "21499724",
   "metadata": {},
   "outputs": [],
   "source": [
    "validation_generator = train_datagen.flow_from_directory(\n",
    "    'colored_images',\n",
    "    target_size=image_size,\n",
    "    batch_size=batch_size,\n",
    "    class_mode='categorical',\n",
    "    subset='validation'\n",
    ")\n",
    "\n",
    "test_generator = test_datagen.flow_from_directory(\n",
    "    'colored_images',\n",
    "    target_size=image_size,\n",
    "    batch_size=batch_size,\n",
    "    class_mode='categorical',\n",
    "    shuffle=False\n",
    ")"
   ]
  },
  {
   "cell_type": "markdown",
   "id": "65283706",
   "metadata": {},
   "source": [
    "model training\n"
   ]
  },
  {
   "cell_type": "code",
   "execution_count": null,
   "id": "add12122",
   "metadata": {},
   "outputs": [],
   "source": [
    "base_model = ResNet50(\n",
    "    weights='imagenet', \n",
    "    include_top=False, \n",
    "    input_shape=(224, 224, 3)\n",
    ")\n",
    "\n",
    "# Freeze base model layers (Only train custom layers)\n",
    "base_model.trainable = False\n",
    "\n",
    "# Custom Fully Connected Layers\n",
    "x = base_model.output\n",
    "x = GlobalAveragePooling2D()(x)\n",
    "x = Dense(1024, activation='relu')(x)\n",
    "output = Dense(num_classes, activation='softmax')(x)\n",
    "\n",
    "model = Model(inputs=base_model.input, outputs=output)"
   ]
  },
  {
   "cell_type": "code",
   "execution_count": null,
   "id": "75e3719f",
   "metadata": {},
   "outputs": [],
   "source": [
    "model.compile(\n",
    "    optimizer=Adam(learning_rate=learning_rate),\n",
    "    loss='categorical_crossentropy',\n",
    "    metrics=['accuracy']\n",
    ")\n",
    "\n",
    "# Callbacks (Model Checkpoint & Early Stopping)\n",
    "checkpoint = ModelCheckpoint(\n",
    "    'best_resnet50_model.keras', \n",
    "    monitor='val_accuracy', \n",
    "    save_best_only=True\n",
    ")\n",
    "\n",
    "early_stopping = EarlyStopping(\n",
    "    monitor='val_loss', \n",
    "    patience=5,  # Reduce to avoid long training in Kaggle\n",
    "    restore_best_weights=True\n",
    ")"
   ]
  },
  {
   "cell_type": "markdown",
   "id": "4c07aaf4",
   "metadata": {},
   "source": [
    "train model"
   ]
  },
  {
   "cell_type": "code",
   "execution_count": null,
   "id": "dcd0d63d",
   "metadata": {},
   "outputs": [],
   "source": [
    "model.compile(\n",
    "    optimizer=Adam(learning_rate=learning_rate),\n",
    "    loss='categorical_crossentropy',\n",
    "    metrics=['accuracy']\n",
    ")\n",
    "\n",
    "#  Callbacks (Model Checkpoint & Early Stopping)\n",
    "checkpoint = ModelCheckpoint(\n",
    "    'best_resnet50_model.keras', \n",
    "    monitor='val_accuracy', \n",
    "    save_best_only=True\n",
    ")\n",
    "\n",
    "early_stopping = EarlyStopping(\n",
    "    monitor='val_loss', \n",
    "    patience=5,  # Reduce to avoid long training in Kaggle\n",
    "    restore_best_weights=True\n",
    ")"
   ]
  },
  {
   "cell_type": "code",
   "execution_count": null,
   "id": "e8095c87",
   "metadata": {},
   "outputs": [],
   "source": [
    "history = model.fit(\n",
    "    train_generator,\n",
    "    epochs=epochs,\n",
    "    validation_data=validation_generator,\n",
    "    callbacks=[checkpoint, early_stopping]\n",
    ")"
   ]
  },
  {
   "cell_type": "code",
   "execution_count": null,
   "id": "1e97157e",
   "metadata": {},
   "outputs": [],
   "source": [
    "test_loss, test_acc = model.evaluate(validation_generator)\n",
    "print(f\" Test Accuracy: {test_acc:.4f}\")\n"
   ]
  },
  {
   "cell_type": "code",
   "execution_count": null,
   "id": "070c6308",
   "metadata": {},
   "outputs": [],
   "source": [
    "from tensorflow.keras.preprocessing.image import load_img, img_to_array\n",
    "import numpy as np\n",
    "\n",
    "# Class Labels (Make sure the order matches your folder names)\n",
    "labels = {\n",
    "    0: \"No DR\",\n",
    "    1: \"Mild\",\n",
    "    2: \"Moderate\",\n",
    "    3: \"Severe\",\n",
    "    4: \"Proliferative DR\"\n",
    "}\n",
    "\n",
    "# Load and Predict Function\n",
    "def load_and_predict(image_path):\n",
    "\n",
    "    # Load the pre-trained model\n",
    "    # loaded_model = tf.keras.models.load_model(\"retino_cnn_model.h5\")\n",
    "    # print(\"Model loaded successfully.\")\n",
    "\n",
    "    # Load and preprocess the image\n",
    "    image = load_img(image_path, target_size=(224, 224))\n",
    "    image = img_to_array(image)\n",
    "    image = image / 255.0\n",
    "    image = np.expand_dims(image, axis=0)\n",
    "\n",
    "    # Make predictions\n",
    "    prediction =model.predict(image)\n",
    "    predicted_class = np.argmax(prediction, axis=1)[0]\n",
    "\n",
    "    # Map to class label and display\n",
    "    category = labels[predicted_class]\n",
    "    print(f\"Predicted Class: {predicted_class} ({category})\")\n",
    "    return category\n",
    "\n",
    "# Example usage:\n",
    "load_and_predict(\"00cc2b75cddd.png\")\n"
   ]
  },
  {
   "cell_type": "code",
   "execution_count": null,
   "id": "ee739d9d",
   "metadata": {},
   "outputs": [],
   "source": [
    "model.save('final_model.h5')\n",
    "\n",
    "print(\"Model saved as final_model.h5\")"
   ]
  }
 ],
 "metadata": {
  "kernelspec": {
   "display_name": "Python 3",
   "language": "python",
   "name": "python3"
  },
  "language_info": {
   "codemirror_mode": {
    "name": "ipython",
    "version": 3
   },
   "file_extension": ".py",
   "mimetype": "text/x-python",
   "name": "python",
   "nbconvert_exporter": "python",
   "pygments_lexer": "ipython3",
   "version": "3.11.9"
  }
 },
 "nbformat": 4,
 "nbformat_minor": 5
}
